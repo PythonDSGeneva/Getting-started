{
 "cells": [
  {
   "cell_type": "code",
   "execution_count": 1,
   "metadata": {},
   "outputs": [],
   "source": [
    "import numpy as np"
   ]
  },
  {
   "cell_type": "markdown",
   "metadata": {},
   "source": [
    "# Generating Data"
   ]
  },
  {
   "cell_type": "code",
   "execution_count": 50,
   "metadata": {},
   "outputs": [
    {
     "name": "stdout",
     "output_type": "stream",
     "text": [
      "a, b, and c are [0 1 2 3 4] [5 6 7 8 9] [10 20 30 40 50 60 70 80 90]\n"
     ]
    }
   ],
   "source": [
    "a = np.arange(5)\n",
    "b = np.arange(5,10)\n",
    "c = np.arange(10,100,10)\n",
    "print \"a, b, and c are\", a, b, c"
   ]
  },
  {
   "cell_type": "code",
   "execution_count": 57,
   "metadata": {},
   "outputs": [
    {
     "name": "stdout",
     "output_type": "stream",
     "text": [
      "a is [ 0.          0.10204082  0.20408163  0.30612245  0.40816327  0.51020408\n",
      "  0.6122449   0.71428571  0.81632653  0.91836735  1.02040816  1.12244898\n",
      "  1.2244898   1.32653061  1.42857143  1.53061224  1.63265306  1.73469388\n",
      "  1.83673469  1.93877551  2.04081633  2.14285714  2.24489796  2.34693878\n",
      "  2.44897959  2.55102041  2.65306122  2.75510204  2.85714286  2.95918367\n",
      "  3.06122449  3.16326531  3.26530612  3.36734694  3.46938776  3.57142857\n",
      "  3.67346939  3.7755102   3.87755102  3.97959184  4.08163265  4.18367347\n",
      "  4.28571429  4.3877551   4.48979592  4.59183673  4.69387755  4.79591837\n",
      "  4.89795918  5.        ]\n",
      "b is [-5. -4. -3. -2. -1.  0.  1.  2.  3.  4.  5.]\n"
     ]
    }
   ],
   "source": [
    "a = np.linspace(0,5) # n points between i and j, default is 50\n",
    "print \"a is\", a\n",
    "b = np.linspace(-5,5,11) # points can be ± and floating\n",
    "print \"b is\", b"
   ]
  },
  {
   "cell_type": "code",
   "execution_count": 104,
   "metadata": {},
   "outputs": [
    {
     "name": "stdout",
     "output_type": "stream",
     "text": [
      "[ -2.  -1.   2.   7.  14.]\n",
      "[ 0.  0.  0.  0.  0.]\n",
      "average change from baseline -4.0\n"
     ]
    }
   ],
   "source": [
    "baseline = np.zeros(5) # 5 zeros\n",
    "ones = np.ones(5) # 5 ones\n",
    "\n",
    "def f(x,y):   # some shape\n",
    "    return x*y\n",
    "\n",
    "slope = -ones*2 + [f(i,i) for i in range(5)]\n",
    "\n",
    "print slope\n",
    "print baseline\n",
    "print \"average change from baseline\", (baseline - slope).mean()"
   ]
  },
  {
   "cell_type": "markdown",
   "metadata": {},
   "source": [
    "### Random numbers"
   ]
  },
  {
   "cell_type": "code",
   "execution_count": 63,
   "metadata": {},
   "outputs": [
    {
     "name": "stdout",
     "output_type": "stream",
     "text": [
      "a and b are [ 0.8108409   0.37323045  0.01690656  0.51114643  0.0168598 ] [[ 0.07642873  0.55111452  0.26693922]\n",
      " [ 0.43481018  0.40193312  0.81175921]]\n"
     ]
    }
   ],
   "source": [
    "a = np.random.rand(5) # 5 random numbers between 0 and 1\n",
    "b = np.random.rand(2,3) # 6 random numbers in a matrix\n",
    "print \"a and b are\", a, b"
   ]
  },
  {
   "cell_type": "code",
   "execution_count": 66,
   "metadata": {},
   "outputs": [
    {
     "name": "stdout",
     "output_type": "stream",
     "text": [
      "[ 5.58064441  5.38424948  4.73223765  6.4968407   6.60631411]\n"
     ]
    }
   ],
   "source": [
    "mean = 5\n",
    "sigma = 2\n",
    "gauss = np.random.normal(mean, sigma, 5) # generate 5 random numbers from a gaussian\n",
    "print gauss"
   ]
  },
  {
   "cell_type": "code",
   "execution_count": 71,
   "metadata": {},
   "outputs": [
    {
     "name": "stdout",
     "output_type": "stream",
     "text": [
      "[ 13.46921423  12.54341688  13.38811623  10.44393864  14.72504023]\n"
     ]
    }
   ],
   "source": [
    "uniform = np.random.uniform(10,15,5) # generate 5 random numbers from a uniform distribution between i, j\n",
    "print uniform"
   ]
  },
  {
   "cell_type": "code",
   "execution_count": 95,
   "metadata": {},
   "outputs": [
    {
     "name": "stdout",
     "output_type": "stream",
     "text": [
      "[ 3.39475603  6.18404346  8.14726529  7.46768919  4.05358013]\n"
     ]
    }
   ],
   "source": [
    "gauss = np.random.normal(mean, sigma, 1000) # lots of data\n",
    "sample = np.random.choice(gauss, 5) # 5 random points from the data\n",
    "print sample"
   ]
  },
  {
   "cell_type": "markdown",
   "metadata": {},
   "source": [
    "# Statistics and sumarising data"
   ]
  },
  {
   "cell_type": "code",
   "execution_count": 86,
   "metadata": {},
   "outputs": [
    {
     "name": "stdout",
     "output_type": "stream",
     "text": [
      "6.02889291852 -4.4055362721\n"
     ]
    }
   ],
   "source": [
    "data = np.random.normal(0,2,100) # lots of data\n",
    "highest = data.max()\n",
    "lowest = data.min()\n",
    "print highest, lowest"
   ]
  },
  {
   "cell_type": "code",
   "execution_count": 88,
   "metadata": {},
   "outputs": [
    {
     "name": "stdout",
     "output_type": "stream",
     "text": [
      "0.010832374706 0.143203458373 3.6766754897 1.91746590314\n"
     ]
    }
   ],
   "source": [
    "print data.mean(), np.median(data), data.var(), data.std()"
   ]
  },
  {
   "cell_type": "markdown",
   "metadata": {},
   "source": [
    "or histogramming"
   ]
  },
  {
   "cell_type": "code",
   "execution_count": 94,
   "metadata": {},
   "outputs": [
    {
     "name": "stdout",
     "output_type": "stream",
     "text": [
      "[ 4  9 26 15 24 12  7  2  1]\n"
     ]
    }
   ],
   "source": [
    "hist, bins = np.histogram(data, bins = np.linspace(data.min(), data.max(), 10))\n",
    "print hist "
   ]
  },
  {
   "cell_type": "markdown",
   "metadata": {},
   "source": [
    "There are some things numpy can't do so easily..."
   ]
  },
  {
   "cell_type": "code",
   "execution_count": 96,
   "metadata": {},
   "outputs": [],
   "source": [
    "from scipy.stats import norm"
   ]
  },
  {
   "cell_type": "code",
   "execution_count": 99,
   "metadata": {},
   "outputs": [
    {
     "name": "stdout",
     "output_type": "stream",
     "text": [
      "0.010832374706 1.91746590314\n"
     ]
    }
   ],
   "source": [
    "mu, sigma = norm.fit(data)\n",
    "print mu, sigma"
   ]
  }
 ],
 "metadata": {
  "kernelspec": {
   "display_name": "Python 2",
   "language": "python",
   "name": "python2"
  },
  "language_info": {
   "codemirror_mode": {
    "name": "ipython",
    "version": 2
   },
   "file_extension": ".py",
   "mimetype": "text/x-python",
   "name": "python",
   "nbconvert_exporter": "python",
   "pygments_lexer": "ipython2",
   "version": "2.7.13"
  }
 },
 "nbformat": 4,
 "nbformat_minor": 2
}
