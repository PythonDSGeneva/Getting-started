{
 "cells": [
  {
   "cell_type": "code",
   "execution_count": 1,
   "metadata": {},
   "outputs": [],
   "source": [
    "import numpy as np"
   ]
  },
  {
   "cell_type": "markdown",
   "metadata": {},
   "source": [
    "# Indexing and Slicing"
   ]
  },
  {
   "cell_type": "code",
   "execution_count": 29,
   "metadata": {},
   "outputs": [
    {
     "name": "stdout",
     "output_type": "stream",
     "text": [
      "from  [0 1 2 3 4 5 6 7 8 9]\n",
      "we slice [0 1]\n"
     ]
    }
   ],
   "source": [
    "a = np.arange(10)\n",
    "b = a[:2]\n",
    "print \"from \",a\n",
    "print \"we slice\", b"
   ]
  },
  {
   "cell_type": "code",
   "execution_count": 33,
   "metadata": {},
   "outputs": [
    {
     "name": "stdout",
     "output_type": "stream",
     "text": [
      "now from  [0 1 2 3 4 5 6 7 8 9]\n",
      "we slice [2 3 4 5 6]\n"
     ]
    }
   ],
   "source": [
    "a = np.arange(10)\n",
    "b = a[2:7]\n",
    "print \"now from \",a\n",
    "print \"we slice\", b"
   ]
  },
  {
   "cell_type": "code",
   "execution_count": 35,
   "metadata": {},
   "outputs": [
    {
     "name": "stdout",
     "output_type": "stream",
     "text": [
      "from  [0 1 2 3 4 5 6 7 8 9]\n",
      "we slice 7\n"
     ]
    }
   ],
   "source": [
    "a = np.arange(10)\n",
    "b = a[7]\n",
    "print \"from \",a\n",
    "print \"we slice\", b"
   ]
  },
  {
   "cell_type": "markdown",
   "metadata": {},
   "source": [
    "If only one parameter is put, a single item corresponding to the index will be returned. If a : is inserted in front of it, all items from that index onwards will be extracted. If two parameters (with : between them) is used, items between the two indexes (not including the stop index) with default step one are sliced."
   ]
  },
  {
   "cell_type": "code",
   "execution_count": 36,
   "metadata": {},
   "outputs": [
    {
     "name": "stdout",
     "output_type": "stream",
     "text": [
      "from  [0 1 2 3 4 5 6 7 8 9]\n",
      "we slice [7 8]\n"
     ]
    }
   ],
   "source": [
    "a = np.arange(10)\n",
    "b = a[7:-1]\n",
    "print \"from \",a\n",
    "print \"we slice\", b"
   ]
  },
  {
   "cell_type": "markdown",
   "metadata": {},
   "source": [
    "or more advanced..."
   ]
  },
  {
   "cell_type": "code",
   "execution_count": 45,
   "metadata": {},
   "outputs": [
    {
     "name": "stdout",
     "output_type": "stream",
     "text": [
      "Our array is:\n",
      "[[ 0  1  2]\n",
      " [ 3  4  5]\n",
      " [ 6  7  8]\n",
      " [ 9 10 11]]\n",
      "\n",
      "\n",
      "rows are [[ 0  0]\n",
      " [-1 -1]]\n",
      "columns are [[ 0 -1]\n",
      " [ 0 -1]]\n",
      "The corner elements of this array are:\n",
      "[[ 0  2]\n",
      " [ 9 11]]\n"
     ]
    }
   ],
   "source": [
    "x = np.arange(12).reshape(4,3)\n",
    "   \n",
    "print 'Our array is:' \n",
    "print x \n",
    "print '\\n' \n",
    "\n",
    "rows = np.array([[0,0],[-1,-1]])\n",
    "cols = np.array([[0,-1],[0,-1]]) \n",
    "print \"rows are\", rows\n",
    "print \"columns are\", cols\n",
    "y = x[rows,cols] \n",
    "   \n",
    "print 'The corner elements of this array are:' \n",
    "print y"
   ]
  },
  {
   "cell_type": "markdown",
   "metadata": {},
   "source": [
    "# Manipulating arrays\n",
    "### Standard mathematical functions"
   ]
  },
  {
   "cell_type": "code",
   "execution_count": null,
   "metadata": {},
   "outputs": [],
   "source": [
    "a = np.arange(9, dtype = np.float_).reshape(3,3) \n",
    "\n",
    "print 'First array:' \n",
    "print a \n",
    "print '\\n'  \n",
    "\n",
    "print 'Second array:' \n",
    "b = np.array([10,10,10]) \n",
    "print b \n",
    "print '\\n'  \n",
    "\n",
    "print 'Add the two arrays:' \n",
    "print np.add(a,b) \n",
    "print '\\n'  \n",
    "\n",
    "print 'Subtract the two arrays:' \n",
    "print np.subtract(a,b) \n",
    "print '\\n'  \n",
    "\n",
    "print 'Multiply the two arrays:' \n",
    "print np.multiply(a,b) \n",
    "print '\\n'  \n",
    "\n",
    "print 'Divide the two arrays:' \n",
    "print np.divide(a,b)\n",
    "\n",
    "print 'Applying power function:' \n",
    "print np.power(a,2) "
   ]
  },
  {
   "cell_type": "markdown",
   "metadata": {},
   "source": [
    "### Trigonometry"
   ]
  },
  {
   "cell_type": "code",
   "execution_count": 47,
   "metadata": {},
   "outputs": [
    {
     "name": "stdout",
     "output_type": "stream",
     "text": [
      "Sine of different angles:\n",
      "[ 0.          0.5         0.70710678  0.8660254   1.        ]\n",
      "\n",
      "\n",
      "Cosine values for angles in array:\n",
      "[  1.00000000e+00   8.66025404e-01   7.07106781e-01   5.00000000e-01\n",
      "   6.12323400e-17]\n",
      "\n",
      "\n",
      "Tangent values for given angles:\n",
      "[  0.00000000e+00   5.77350269e-01   1.00000000e+00   1.73205081e+00\n",
      "   1.63312394e+16]\n"
     ]
    }
   ],
   "source": [
    "a = np.array([0,30,45,60,90]) \n",
    "\n",
    "print 'Sine of different angles:' \n",
    "# Convert to radians by multiplying with pi/180 \n",
    "print np.sin(a*np.pi/180) \n",
    "print '\\n'  \n",
    "\n",
    "print 'Cosine values for angles in array:' \n",
    "print np.cos(a*np.pi/180) \n",
    "print '\\n'  \n",
    "\n",
    "print 'Tangent values for given angles:' \n",
    "print np.tan(a*np.pi/180) "
   ]
  },
  {
   "cell_type": "markdown",
   "metadata": {},
   "source": [
    "### Rounding"
   ]
  },
  {
   "cell_type": "code",
   "execution_count": null,
   "metadata": {},
   "outputs": [],
   "source": [
    "a = np.array([1.0,5.55, 123, 0.567, 25.532]) \n",
    "\n",
    "print 'Original array:' \n",
    "print a \n",
    "print '\\n'  \n",
    "\n",
    "print 'After rounding:' \n",
    "print np.around(a) \n",
    "print np.around(a, decimals = 1) \n",
    "print np.around(a, decimals = -1)"
   ]
  }
 ],
 "metadata": {
  "kernelspec": {
   "display_name": "Python 2",
   "language": "python",
   "name": "python2"
  },
  "language_info": {
   "codemirror_mode": {
    "name": "ipython",
    "version": 2
   },
   "file_extension": ".py",
   "mimetype": "text/x-python",
   "name": "python",
   "nbconvert_exporter": "python",
   "pygments_lexer": "ipython2",
   "version": "2.7.13"
  }
 },
 "nbformat": 4,
 "nbformat_minor": 2
}
